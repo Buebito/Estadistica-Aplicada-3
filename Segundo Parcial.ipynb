{
 "cells": [
  {
   "cell_type": "markdown",
   "metadata": {},
   "source": [
    "<h1 style=\"text-align: center;\"> Segundo Examen Parcial - Estadística Aplicada 3</h1>\n",
    "\n",
    "<h3 style=\"text-align: center;\"> Rodrigo Uribe 196134</h3>"
   ]
  },
  {
   "cell_type": "markdown",
   "metadata": {},
   "source": [
    "><div class=\"alert alert-block alert-info\">\n",
    "><p><b>1.</b></p>\n",
    "><p>Use la base de percepción humana de colores y ejecute el análisis por escalamiento dimensional. Interprete los resultados usando sus propias palabras.</p>\n",
    "</div>"
   ]
  },
  {
   "cell_type": "markdown",
   "metadata": {},
   "source": [
    "Como se vió en clase, para realizar un análisis por escalamiento multidimensional, se pretende transformar la base de percepción humana de colores datos en una representación de menor dimensión que pueda ser visualizada, preservando lo mejor posible las distancias relativas o similitudes entre los puntos (en este caso, los colores). Primero tendremos que preparar los datos, asegurándonos que los datos estén en formato adecuado para el análsis (que sea matriz simétrica). Decidí utilizar el MDS clásico sobre el no métrico la que, a ojo de buen cubero, los datos parecen estar en una escala de razón. De igual manera, opté por un espacio bidimensional para facilitar la visualización e interpretación de los datos. También, asumí que los datos proporcionados eran distancias o disimilitudes a la hora de procesar los datos. Los resultados fueron los siguientes:"
   ]
  },
  {
   "cell_type": "markdown",
   "metadata": {},
   "source": [
    "<img src='parcial1.1.png' width='500'>"
   ]
  },
  {
   "cell_type": "markdown",
   "metadata": {},
   "source": [
    "Los colores que aparecen cercanos en este espacio bidimensional son percibidos como más similares entre sí, mientras que aquellos que están más alejados son percibidos como más diferentes. Esto puede revelar agrupaciones de colores que son percibidas como similares por los humanos. También, la forma en que los colores se distribuyen a lo largo de las dos dimensiones puede ofrecer información sobre cómo las diferencias en las longitudes de onda de los estímulos de color se perciben en términos de similitud o disimilitud. Por ejemplo, si los colores se alinean a lo largo de una línea o curva, podría indicar una gradación perceptual. Las dos dimensiones en el gráfico MDS podrían interpretarse como ejes principales a lo largo de los cuales varían las percepciones de color. Estas dimensiones no necesariamente corresponden directamente a propiedades físicas del color (como la longitud de onda), sino más bien a cómo el cerebro humano interpreta estas diferencias.\n",
    "\n",
    "En clonclusión,  la representación bidimensional puede no capturar completamente todas las complejidades de la percepción del color. La elección de dos dimensiones es un compromiso entre simplicidad y capacidad para representar las relaciones entre los colores. La evaluación de la calidad del ajuste (por ejemplo, a través del \"stress\" del modelo MDS) podría proporcionar una idea de cuán bien se representa la estructura de los datos originales en este espacio de baja dimensión."
   ]
  },
  {
   "cell_type": "markdown",
   "metadata": {},
   "source": [
    "><div class=\"alert alert-block alert-info\">\n",
    "><p><b>2.</b></p>\n",
    "><p>Haga analisis de componentes principales para el archivo turtles.txt. Utilice solamente los datos correspondientes a las tortugas hembras. \n",
    "</p>\n",
    "</div>"
   ]
  },
  {
   "cell_type": "markdown",
   "metadata": {},
   "source": [
    "Para realizar un Análisis de Componentes Principales (PCA), primero filtré los datos para incluir solo a las tortugas hembras: se eliminó la columna de sexo, ya que PCA solo requiere variables numéricas. Los datos se estandarizaron para dar la misma importancia a todas las variables. Esto es crucial ya que PCA es sensible a la escala de los datos. Para el PCA, opté por reducir la dimensionalidad a dos componentes principales. Esto ayuda a visualizar los datos y comprender las principales direcciones de variabilidad. Para ver los datos, creé un gráfico de dispersión de los dos componentes principales. Esto proporciona una visión intuitiva de cómo se distribuyen los datos en el espacio reducido."
   ]
  },
  {
   "cell_type": "markdown",
   "metadata": {},
   "source": [
    "<img src='parcial2.1.png' width='500'>"
   ]
  },
  {
   "cell_type": "markdown",
   "metadata": {},
   "source": [
    "Como podemos ver en la gráfica, los dos componentes principales explican aproximadamente el 98.04% y el 1.15% de la varianza total, respectivamente. Esto indica que el primer componente principal captura la mayor parte de la información. Dada la alta varianza explicada por el primer componente, se puede inferir que una gran parte de la variabilidad en los datos de las tortugas hembras se puede resumir con este único componente. Esto sugiere que las dimensiones físicas (longitud, ancho, altura) de las tortugas hembras están altamente correlacionadas. En el contexto del estudio de las tortugas, este análisis sugiere que hay una relación lineal significativa entre las dimensiones físicas de las tortugas hembras. Un componente principal domina, lo que podría indicar una tendencia común en el crecimiento o la estructura corporal de estas tortugas. Estos hallazgos podrían ser útiles para estudios biológicos y de conservación relacionados con las tortugas, proporcionando una comprensión simplificada de sus características físicas."
   ]
  },
  {
   "cell_type": "markdown",
   "metadata": {},
   "source": []
  }
 ],
 "metadata": {
  "kernelspec": {
   "display_name": "Python 3",
   "language": "python",
   "name": "python3"
  },
  "language_info": {
   "name": "python",
   "version": "3.11.3"
  }
 },
 "nbformat": 4,
 "nbformat_minor": 2
}
